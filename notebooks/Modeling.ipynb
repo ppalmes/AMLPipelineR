{
 "cells": [
  {
   "cell_type": "code",
   "execution_count": 1,
   "metadata": {
    "collapsed": true
   },
   "outputs": [],
   "source": [
    "using RCall\n",
    "using DataFrames, DataFramesMeta\n",
    "using CSV\n",
    "using DataVoyager\n",
    "using Statistics\n",
    "ENV[\"LINES\"] = 10\n",
    "ENV[\"COLUMNS\"]=10000;"
   ]
  },
  {
   "cell_type": "markdown",
   "metadata": {},
   "source": [
    "### Load Covid Data\n",
    "\n",
    "source: https://covid.ourworldindata.org/data/owid-covid-data.csv"
   ]
  },
  {
   "cell_type": "code",
   "execution_count": 2,
   "metadata": {
    "collapsed": true
   },
   "outputs": [
    {
     "data": {
      "text/html": [
       "<table class=\"data-frame\"><thead><tr><th></th><th>iso_code</th><th>continent</th><th>location</th><th>date</th><th>total_cases</th><th>new_cases</th><th>new_cases_smoothed</th><th>total_deaths</th><th>new_deaths</th><th>new_deaths_smoothed</th><th>total_cases_per_million</th><th>new_cases_per_million</th><th>new_cases_smoothed_per_million</th><th>total_deaths_per_million</th><th>new_deaths_per_million</th><th>new_deaths_smoothed_per_million</th><th>reproduction_rate</th><th>icu_patients</th><th>icu_patients_per_million</th><th>hosp_patients</th><th>hosp_patients_per_million</th><th>weekly_icu_admissions</th><th>weekly_icu_admissions_per_million</th><th>weekly_hosp_admissions</th><th>weekly_hosp_admissions_per_million</th><th>new_tests</th><th>total_tests</th><th>total_tests_per_thousand</th><th>new_tests_per_thousand</th><th>new_tests_smoothed</th><th>new_tests_smoothed_per_thousand</th><th>positive_rate</th><th>tests_per_case</th><th>tests_units</th><th>stringency_index</th><th>population</th><th>population_density</th><th>median_age</th><th>aged_65_older</th><th>aged_70_older</th><th>gdp_per_capita</th><th>extreme_poverty</th><th>cardiovasc_death_rate</th><th>diabetes_prevalence</th><th>female_smokers</th><th>male_smokers</th><th>handwashing_facilities</th><th>hospital_beds_per_thousand</th><th>life_expectancy</th><th>human_development_index</th></tr><tr><th></th><th>String</th><th>String</th><th>String</th><th>Date…</th><th>Float64?</th><th>Float64?</th><th>Float64?</th><th>Float64?</th><th>Float64?</th><th>Float64?</th><th>Float64?</th><th>Float64?</th><th>Float64?</th><th>Float64?</th><th>Float64?</th><th>Float64?</th><th>Float64?</th><th>Float64?</th><th>Float64?</th><th>Float64?</th><th>Float64?</th><th>Float64?</th><th>Float64?</th><th>Float64?</th><th>Float64?</th><th>Float64?</th><th>Float64?</th><th>Float64?</th><th>Float64?</th><th>Float64?</th><th>Float64?</th><th>Float64?</th><th>Float64?</th><th>String?</th><th>Float64?</th><th>Float64</th><th>Float64?</th><th>Float64?</th><th>Float64?</th><th>Float64?</th><th>Float64?</th><th>Float64?</th><th>Float64?</th><th>Float64?</th><th>Float64?</th><th>Float64?</th><th>Float64?</th><th>Float64?</th><th>Float64?</th><th>Float64?</th></tr></thead><tbody><p>61,935 rows × 50 columns</p><tr><th>1</th><td>AFG</td><td>Asia</td><td>Afghanistan</td><td>2020-01-23</td><td><em>missing</em></td><td>0.0</td><td><em>missing</em></td><td><em>missing</em></td><td>0.0</td><td><em>missing</em></td><td><em>missing</em></td><td>0.0</td><td><em>missing</em></td><td><em>missing</em></td><td>0.0</td><td><em>missing</em></td><td><em>missing</em></td><td><em>missing</em></td><td><em>missing</em></td><td><em>missing</em></td><td><em>missing</em></td><td><em>missing</em></td><td><em>missing</em></td><td><em>missing</em></td><td><em>missing</em></td><td><em>missing</em></td><td><em>missing</em></td><td><em>missing</em></td><td><em>missing</em></td><td><em>missing</em></td><td><em>missing</em></td><td><em>missing</em></td><td><em>missing</em></td><td><em>missing</em></td><td>0.0</td><td>3.89283e7</td><td>54.422</td><td>18.6</td><td>2.581</td><td>1.337</td><td>1803.99</td><td><em>missing</em></td><td>597.029</td><td>9.59</td><td><em>missing</em></td><td><em>missing</em></td><td>37.746</td><td>0.5</td><td>64.83</td><td>0.498</td></tr><tr><th>2</th><td>AFG</td><td>Asia</td><td>Afghanistan</td><td>2020-01-24</td><td><em>missing</em></td><td>0.0</td><td><em>missing</em></td><td><em>missing</em></td><td>0.0</td><td><em>missing</em></td><td><em>missing</em></td><td>0.0</td><td><em>missing</em></td><td><em>missing</em></td><td>0.0</td><td><em>missing</em></td><td><em>missing</em></td><td><em>missing</em></td><td><em>missing</em></td><td><em>missing</em></td><td><em>missing</em></td><td><em>missing</em></td><td><em>missing</em></td><td><em>missing</em></td><td><em>missing</em></td><td><em>missing</em></td><td><em>missing</em></td><td><em>missing</em></td><td><em>missing</em></td><td><em>missing</em></td><td><em>missing</em></td><td><em>missing</em></td><td><em>missing</em></td><td><em>missing</em></td><td>0.0</td><td>3.89283e7</td><td>54.422</td><td>18.6</td><td>2.581</td><td>1.337</td><td>1803.99</td><td><em>missing</em></td><td>597.029</td><td>9.59</td><td><em>missing</em></td><td><em>missing</em></td><td>37.746</td><td>0.5</td><td>64.83</td><td>0.498</td></tr><tr><th>3</th><td>AFG</td><td>Asia</td><td>Afghanistan</td><td>2020-01-25</td><td><em>missing</em></td><td>0.0</td><td><em>missing</em></td><td><em>missing</em></td><td>0.0</td><td><em>missing</em></td><td><em>missing</em></td><td>0.0</td><td><em>missing</em></td><td><em>missing</em></td><td>0.0</td><td><em>missing</em></td><td><em>missing</em></td><td><em>missing</em></td><td><em>missing</em></td><td><em>missing</em></td><td><em>missing</em></td><td><em>missing</em></td><td><em>missing</em></td><td><em>missing</em></td><td><em>missing</em></td><td><em>missing</em></td><td><em>missing</em></td><td><em>missing</em></td><td><em>missing</em></td><td><em>missing</em></td><td><em>missing</em></td><td><em>missing</em></td><td><em>missing</em></td><td><em>missing</em></td><td>0.0</td><td>3.89283e7</td><td>54.422</td><td>18.6</td><td>2.581</td><td>1.337</td><td>1803.99</td><td><em>missing</em></td><td>597.029</td><td>9.59</td><td><em>missing</em></td><td><em>missing</em></td><td>37.746</td><td>0.5</td><td>64.83</td><td>0.498</td></tr><tr><th>4</th><td>AFG</td><td>Asia</td><td>Afghanistan</td><td>2020-01-26</td><td><em>missing</em></td><td>0.0</td><td><em>missing</em></td><td><em>missing</em></td><td>0.0</td><td><em>missing</em></td><td><em>missing</em></td><td>0.0</td><td><em>missing</em></td><td><em>missing</em></td><td>0.0</td><td><em>missing</em></td><td><em>missing</em></td><td><em>missing</em></td><td><em>missing</em></td><td><em>missing</em></td><td><em>missing</em></td><td><em>missing</em></td><td><em>missing</em></td><td><em>missing</em></td><td><em>missing</em></td><td><em>missing</em></td><td><em>missing</em></td><td><em>missing</em></td><td><em>missing</em></td><td><em>missing</em></td><td><em>missing</em></td><td><em>missing</em></td><td><em>missing</em></td><td><em>missing</em></td><td>0.0</td><td>3.89283e7</td><td>54.422</td><td>18.6</td><td>2.581</td><td>1.337</td><td>1803.99</td><td><em>missing</em></td><td>597.029</td><td>9.59</td><td><em>missing</em></td><td><em>missing</em></td><td>37.746</td><td>0.5</td><td>64.83</td><td>0.498</td></tr><tr><th>5</th><td>AFG</td><td>Asia</td><td>Afghanistan</td><td>2020-01-27</td><td><em>missing</em></td><td>0.0</td><td><em>missing</em></td><td><em>missing</em></td><td>0.0</td><td><em>missing</em></td><td><em>missing</em></td><td>0.0</td><td><em>missing</em></td><td><em>missing</em></td><td>0.0</td><td><em>missing</em></td><td><em>missing</em></td><td><em>missing</em></td><td><em>missing</em></td><td><em>missing</em></td><td><em>missing</em></td><td><em>missing</em></td><td><em>missing</em></td><td><em>missing</em></td><td><em>missing</em></td><td><em>missing</em></td><td><em>missing</em></td><td><em>missing</em></td><td><em>missing</em></td><td><em>missing</em></td><td><em>missing</em></td><td><em>missing</em></td><td><em>missing</em></td><td><em>missing</em></td><td>0.0</td><td>3.89283e7</td><td>54.422</td><td>18.6</td><td>2.581</td><td>1.337</td><td>1803.99</td><td><em>missing</em></td><td>597.029</td><td>9.59</td><td><em>missing</em></td><td><em>missing</em></td><td>37.746</td><td>0.5</td><td>64.83</td><td>0.498</td></tr><tr><th>6</th><td>AFG</td><td>Asia</td><td>Afghanistan</td><td>2020-01-28</td><td><em>missing</em></td><td>0.0</td><td>0.0</td><td><em>missing</em></td><td>0.0</td><td>0.0</td><td><em>missing</em></td><td>0.0</td><td>0.0</td><td><em>missing</em></td><td>0.0</td><td>0.0</td><td><em>missing</em></td><td><em>missing</em></td><td><em>missing</em></td><td><em>missing</em></td><td><em>missing</em></td><td><em>missing</em></td><td><em>missing</em></td><td><em>missing</em></td><td><em>missing</em></td><td><em>missing</em></td><td><em>missing</em></td><td><em>missing</em></td><td><em>missing</em></td><td><em>missing</em></td><td><em>missing</em></td><td><em>missing</em></td><td><em>missing</em></td><td><em>missing</em></td><td>0.0</td><td>3.89283e7</td><td>54.422</td><td>18.6</td><td>2.581</td><td>1.337</td><td>1803.99</td><td><em>missing</em></td><td>597.029</td><td>9.59</td><td><em>missing</em></td><td><em>missing</em></td><td>37.746</td><td>0.5</td><td>64.83</td><td>0.498</td></tr><tr><th>7</th><td>AFG</td><td>Asia</td><td>Afghanistan</td><td>2020-01-29</td><td><em>missing</em></td><td>0.0</td><td>0.0</td><td><em>missing</em></td><td>0.0</td><td>0.0</td><td><em>missing</em></td><td>0.0</td><td>0.0</td><td><em>missing</em></td><td>0.0</td><td>0.0</td><td><em>missing</em></td><td><em>missing</em></td><td><em>missing</em></td><td><em>missing</em></td><td><em>missing</em></td><td><em>missing</em></td><td><em>missing</em></td><td><em>missing</em></td><td><em>missing</em></td><td><em>missing</em></td><td><em>missing</em></td><td><em>missing</em></td><td><em>missing</em></td><td><em>missing</em></td><td><em>missing</em></td><td><em>missing</em></td><td><em>missing</em></td><td><em>missing</em></td><td>0.0</td><td>3.89283e7</td><td>54.422</td><td>18.6</td><td>2.581</td><td>1.337</td><td>1803.99</td><td><em>missing</em></td><td>597.029</td><td>9.59</td><td><em>missing</em></td><td><em>missing</em></td><td>37.746</td><td>0.5</td><td>64.83</td><td>0.498</td></tr><tr><th>8</th><td>AFG</td><td>Asia</td><td>Afghanistan</td><td>2020-01-30</td><td><em>missing</em></td><td>0.0</td><td>0.0</td><td><em>missing</em></td><td>0.0</td><td>0.0</td><td><em>missing</em></td><td>0.0</td><td>0.0</td><td><em>missing</em></td><td>0.0</td><td>0.0</td><td><em>missing</em></td><td><em>missing</em></td><td><em>missing</em></td><td><em>missing</em></td><td><em>missing</em></td><td><em>missing</em></td><td><em>missing</em></td><td><em>missing</em></td><td><em>missing</em></td><td><em>missing</em></td><td><em>missing</em></td><td><em>missing</em></td><td><em>missing</em></td><td><em>missing</em></td><td><em>missing</em></td><td><em>missing</em></td><td><em>missing</em></td><td><em>missing</em></td><td>0.0</td><td>3.89283e7</td><td>54.422</td><td>18.6</td><td>2.581</td><td>1.337</td><td>1803.99</td><td><em>missing</em></td><td>597.029</td><td>9.59</td><td><em>missing</em></td><td><em>missing</em></td><td>37.746</td><td>0.5</td><td>64.83</td><td>0.498</td></tr><tr><th>9</th><td>AFG</td><td>Asia</td><td>Afghanistan</td><td>2020-01-31</td><td><em>missing</em></td><td>0.0</td><td>0.0</td><td><em>missing</em></td><td>0.0</td><td>0.0</td><td><em>missing</em></td><td>0.0</td><td>0.0</td><td><em>missing</em></td><td>0.0</td><td>0.0</td><td><em>missing</em></td><td><em>missing</em></td><td><em>missing</em></td><td><em>missing</em></td><td><em>missing</em></td><td><em>missing</em></td><td><em>missing</em></td><td><em>missing</em></td><td><em>missing</em></td><td><em>missing</em></td><td><em>missing</em></td><td><em>missing</em></td><td><em>missing</em></td><td><em>missing</em></td><td><em>missing</em></td><td><em>missing</em></td><td><em>missing</em></td><td><em>missing</em></td><td>0.0</td><td>3.89283e7</td><td>54.422</td><td>18.6</td><td>2.581</td><td>1.337</td><td>1803.99</td><td><em>missing</em></td><td>597.029</td><td>9.59</td><td><em>missing</em></td><td><em>missing</em></td><td>37.746</td><td>0.5</td><td>64.83</td><td>0.498</td></tr><tr><th>10</th><td>AFG</td><td>Asia</td><td>Afghanistan</td><td>2020-02-01</td><td><em>missing</em></td><td>0.0</td><td>0.0</td><td><em>missing</em></td><td>0.0</td><td>0.0</td><td><em>missing</em></td><td>0.0</td><td>0.0</td><td><em>missing</em></td><td>0.0</td><td>0.0</td><td><em>missing</em></td><td><em>missing</em></td><td><em>missing</em></td><td><em>missing</em></td><td><em>missing</em></td><td><em>missing</em></td><td><em>missing</em></td><td><em>missing</em></td><td><em>missing</em></td><td><em>missing</em></td><td><em>missing</em></td><td><em>missing</em></td><td><em>missing</em></td><td><em>missing</em></td><td><em>missing</em></td><td><em>missing</em></td><td><em>missing</em></td><td><em>missing</em></td><td>0.0</td><td>3.89283e7</td><td>54.422</td><td>18.6</td><td>2.581</td><td>1.337</td><td>1803.99</td><td><em>missing</em></td><td>597.029</td><td>9.59</td><td><em>missing</em></td><td><em>missing</em></td><td>37.746</td><td>0.5</td><td>64.83</td><td>0.498</td></tr><tr><th>&vellip;</th><td>&vellip;</td><td>&vellip;</td><td>&vellip;</td><td>&vellip;</td><td>&vellip;</td><td>&vellip;</td><td>&vellip;</td><td>&vellip;</td><td>&vellip;</td><td>&vellip;</td><td>&vellip;</td><td>&vellip;</td><td>&vellip;</td><td>&vellip;</td><td>&vellip;</td><td>&vellip;</td><td>&vellip;</td><td>&vellip;</td><td>&vellip;</td><td>&vellip;</td><td>&vellip;</td><td>&vellip;</td><td>&vellip;</td><td>&vellip;</td><td>&vellip;</td><td>&vellip;</td><td>&vellip;</td><td>&vellip;</td><td>&vellip;</td><td>&vellip;</td><td>&vellip;</td><td>&vellip;</td><td>&vellip;</td><td>&vellip;</td><td>&vellip;</td><td>&vellip;</td><td>&vellip;</td><td>&vellip;</td><td>&vellip;</td><td>&vellip;</td><td>&vellip;</td><td>&vellip;</td><td>&vellip;</td><td>&vellip;</td><td>&vellip;</td><td>&vellip;</td><td>&vellip;</td><td>&vellip;</td><td>&vellip;</td><td>&vellip;</td></tr></tbody></table>"
      ],
      "text/latex": [
       "\\begin{tabular}{r|cccccccccccccccccccccccccccccccccccccccccccccccccc}\n",
       "\t& iso\\_code & continent & location & date & total\\_cases & new\\_cases & new\\_cases\\_smoothed & total\\_deaths & new\\_deaths & new\\_deaths\\_smoothed & total\\_cases\\_per\\_million & new\\_cases\\_per\\_million & new\\_cases\\_smoothed\\_per\\_million & total\\_deaths\\_per\\_million & new\\_deaths\\_per\\_million & new\\_deaths\\_smoothed\\_per\\_million & reproduction\\_rate & icu\\_patients & icu\\_patients\\_per\\_million & hosp\\_patients & hosp\\_patients\\_per\\_million & weekly\\_icu\\_admissions & weekly\\_icu\\_admissions\\_per\\_million & weekly\\_hosp\\_admissions & weekly\\_hosp\\_admissions\\_per\\_million & new\\_tests & total\\_tests & total\\_tests\\_per\\_thousand & new\\_tests\\_per\\_thousand & new\\_tests\\_smoothed & new\\_tests\\_smoothed\\_per\\_thousand & positive\\_rate & tests\\_per\\_case & tests\\_units & stringency\\_index & population & population\\_density & median\\_age & aged\\_65\\_older & aged\\_70\\_older & gdp\\_per\\_capita & extreme\\_poverty & cardiovasc\\_death\\_rate & diabetes\\_prevalence & female\\_smokers & male\\_smokers & handwashing\\_facilities & hospital\\_beds\\_per\\_thousand & life\\_expectancy & human\\_development\\_index\\\\\n",
       "\t\\hline\n",
       "\t& String & String & String & Date… & Float64? & Float64? & Float64? & Float64? & Float64? & Float64? & Float64? & Float64? & Float64? & Float64? & Float64? & Float64? & Float64? & Float64? & Float64? & Float64? & Float64? & Float64? & Float64? & Float64? & Float64? & Float64? & Float64? & Float64? & Float64? & Float64? & Float64? & Float64? & Float64? & String? & Float64? & Float64 & Float64? & Float64? & Float64? & Float64? & Float64? & Float64? & Float64? & Float64? & Float64? & Float64? & Float64? & Float64? & Float64? & Float64?\\\\\n",
       "\t\\hline\n",
       "\t1 & AFG & Asia & Afghanistan & 2020-01-23 & \\emph{missing} & 0.0 & \\emph{missing} & \\emph{missing} & 0.0 & \\emph{missing} & \\emph{missing} & 0.0 & \\emph{missing} & \\emph{missing} & 0.0 & \\emph{missing} & \\emph{missing} & \\emph{missing} & \\emph{missing} & \\emph{missing} & \\emph{missing} & \\emph{missing} & \\emph{missing} & \\emph{missing} & \\emph{missing} & \\emph{missing} & \\emph{missing} & \\emph{missing} & \\emph{missing} & \\emph{missing} & \\emph{missing} & \\emph{missing} & \\emph{missing} & \\emph{missing} & 0.0 & 3.89283e7 & 54.422 & 18.6 & 2.581 & 1.337 & 1803.99 & \\emph{missing} & 597.029 & 9.59 & \\emph{missing} & \\emph{missing} & 37.746 & 0.5 & 64.83 & 0.498 \\\\\n",
       "\t2 & AFG & Asia & Afghanistan & 2020-01-24 & \\emph{missing} & 0.0 & \\emph{missing} & \\emph{missing} & 0.0 & \\emph{missing} & \\emph{missing} & 0.0 & \\emph{missing} & \\emph{missing} & 0.0 & \\emph{missing} & \\emph{missing} & \\emph{missing} & \\emph{missing} & \\emph{missing} & \\emph{missing} & \\emph{missing} & \\emph{missing} & \\emph{missing} & \\emph{missing} & \\emph{missing} & \\emph{missing} & \\emph{missing} & \\emph{missing} & \\emph{missing} & \\emph{missing} & \\emph{missing} & \\emph{missing} & \\emph{missing} & 0.0 & 3.89283e7 & 54.422 & 18.6 & 2.581 & 1.337 & 1803.99 & \\emph{missing} & 597.029 & 9.59 & \\emph{missing} & \\emph{missing} & 37.746 & 0.5 & 64.83 & 0.498 \\\\\n",
       "\t3 & AFG & Asia & Afghanistan & 2020-01-25 & \\emph{missing} & 0.0 & \\emph{missing} & \\emph{missing} & 0.0 & \\emph{missing} & \\emph{missing} & 0.0 & \\emph{missing} & \\emph{missing} & 0.0 & \\emph{missing} & \\emph{missing} & \\emph{missing} & \\emph{missing} & \\emph{missing} & \\emph{missing} & \\emph{missing} & \\emph{missing} & \\emph{missing} & \\emph{missing} & \\emph{missing} & \\emph{missing} & \\emph{missing} & \\emph{missing} & \\emph{missing} & \\emph{missing} & \\emph{missing} & \\emph{missing} & \\emph{missing} & 0.0 & 3.89283e7 & 54.422 & 18.6 & 2.581 & 1.337 & 1803.99 & \\emph{missing} & 597.029 & 9.59 & \\emph{missing} & \\emph{missing} & 37.746 & 0.5 & 64.83 & 0.498 \\\\\n",
       "\t4 & AFG & Asia & Afghanistan & 2020-01-26 & \\emph{missing} & 0.0 & \\emph{missing} & \\emph{missing} & 0.0 & \\emph{missing} & \\emph{missing} & 0.0 & \\emph{missing} & \\emph{missing} & 0.0 & \\emph{missing} & \\emph{missing} & \\emph{missing} & \\emph{missing} & \\emph{missing} & \\emph{missing} & \\emph{missing} & \\emph{missing} & \\emph{missing} & \\emph{missing} & \\emph{missing} & \\emph{missing} & \\emph{missing} & \\emph{missing} & \\emph{missing} & \\emph{missing} & \\emph{missing} & \\emph{missing} & \\emph{missing} & 0.0 & 3.89283e7 & 54.422 & 18.6 & 2.581 & 1.337 & 1803.99 & \\emph{missing} & 597.029 & 9.59 & \\emph{missing} & \\emph{missing} & 37.746 & 0.5 & 64.83 & 0.498 \\\\\n",
       "\t5 & AFG & Asia & Afghanistan & 2020-01-27 & \\emph{missing} & 0.0 & \\emph{missing} & \\emph{missing} & 0.0 & \\emph{missing} & \\emph{missing} & 0.0 & \\emph{missing} & \\emph{missing} & 0.0 & \\emph{missing} & \\emph{missing} & \\emph{missing} & \\emph{missing} & \\emph{missing} & \\emph{missing} & \\emph{missing} & \\emph{missing} & \\emph{missing} & \\emph{missing} & \\emph{missing} & \\emph{missing} & \\emph{missing} & \\emph{missing} & \\emph{missing} & \\emph{missing} & \\emph{missing} & \\emph{missing} & \\emph{missing} & 0.0 & 3.89283e7 & 54.422 & 18.6 & 2.581 & 1.337 & 1803.99 & \\emph{missing} & 597.029 & 9.59 & \\emph{missing} & \\emph{missing} & 37.746 & 0.5 & 64.83 & 0.498 \\\\\n",
       "\t6 & AFG & Asia & Afghanistan & 2020-01-28 & \\emph{missing} & 0.0 & 0.0 & \\emph{missing} & 0.0 & 0.0 & \\emph{missing} & 0.0 & 0.0 & \\emph{missing} & 0.0 & 0.0 & \\emph{missing} & \\emph{missing} & \\emph{missing} & \\emph{missing} & \\emph{missing} & \\emph{missing} & \\emph{missing} & \\emph{missing} & \\emph{missing} & \\emph{missing} & \\emph{missing} & \\emph{missing} & \\emph{missing} & \\emph{missing} & \\emph{missing} & \\emph{missing} & \\emph{missing} & \\emph{missing} & 0.0 & 3.89283e7 & 54.422 & 18.6 & 2.581 & 1.337 & 1803.99 & \\emph{missing} & 597.029 & 9.59 & \\emph{missing} & \\emph{missing} & 37.746 & 0.5 & 64.83 & 0.498 \\\\\n",
       "\t7 & AFG & Asia & Afghanistan & 2020-01-29 & \\emph{missing} & 0.0 & 0.0 & \\emph{missing} & 0.0 & 0.0 & \\emph{missing} & 0.0 & 0.0 & \\emph{missing} & 0.0 & 0.0 & \\emph{missing} & \\emph{missing} & \\emph{missing} & \\emph{missing} & \\emph{missing} & \\emph{missing} & \\emph{missing} & \\emph{missing} & \\emph{missing} & \\emph{missing} & \\emph{missing} & \\emph{missing} & \\emph{missing} & \\emph{missing} & \\emph{missing} & \\emph{missing} & \\emph{missing} & \\emph{missing} & 0.0 & 3.89283e7 & 54.422 & 18.6 & 2.581 & 1.337 & 1803.99 & \\emph{missing} & 597.029 & 9.59 & \\emph{missing} & \\emph{missing} & 37.746 & 0.5 & 64.83 & 0.498 \\\\\n",
       "\t8 & AFG & Asia & Afghanistan & 2020-01-30 & \\emph{missing} & 0.0 & 0.0 & \\emph{missing} & 0.0 & 0.0 & \\emph{missing} & 0.0 & 0.0 & \\emph{missing} & 0.0 & 0.0 & \\emph{missing} & \\emph{missing} & \\emph{missing} & \\emph{missing} & \\emph{missing} & \\emph{missing} & \\emph{missing} & \\emph{missing} & \\emph{missing} & \\emph{missing} & \\emph{missing} & \\emph{missing} & \\emph{missing} & \\emph{missing} & \\emph{missing} & \\emph{missing} & \\emph{missing} & \\emph{missing} & 0.0 & 3.89283e7 & 54.422 & 18.6 & 2.581 & 1.337 & 1803.99 & \\emph{missing} & 597.029 & 9.59 & \\emph{missing} & \\emph{missing} & 37.746 & 0.5 & 64.83 & 0.498 \\\\\n",
       "\t9 & AFG & Asia & Afghanistan & 2020-01-31 & \\emph{missing} & 0.0 & 0.0 & \\emph{missing} & 0.0 & 0.0 & \\emph{missing} & 0.0 & 0.0 & \\emph{missing} & 0.0 & 0.0 & \\emph{missing} & \\emph{missing} & \\emph{missing} & \\emph{missing} & \\emph{missing} & \\emph{missing} & \\emph{missing} & \\emph{missing} & \\emph{missing} & \\emph{missing} & \\emph{missing} & \\emph{missing} & \\emph{missing} & \\emph{missing} & \\emph{missing} & \\emph{missing} & \\emph{missing} & \\emph{missing} & 0.0 & 3.89283e7 & 54.422 & 18.6 & 2.581 & 1.337 & 1803.99 & \\emph{missing} & 597.029 & 9.59 & \\emph{missing} & \\emph{missing} & 37.746 & 0.5 & 64.83 & 0.498 \\\\\n",
       "\t10 & AFG & Asia & Afghanistan & 2020-02-01 & \\emph{missing} & 0.0 & 0.0 & \\emph{missing} & 0.0 & 0.0 & \\emph{missing} & 0.0 & 0.0 & \\emph{missing} & 0.0 & 0.0 & \\emph{missing} & \\emph{missing} & \\emph{missing} & \\emph{missing} & \\emph{missing} & \\emph{missing} & \\emph{missing} & \\emph{missing} & \\emph{missing} & \\emph{missing} & \\emph{missing} & \\emph{missing} & \\emph{missing} & \\emph{missing} & \\emph{missing} & \\emph{missing} & \\emph{missing} & \\emph{missing} & 0.0 & 3.89283e7 & 54.422 & 18.6 & 2.581 & 1.337 & 1803.99 & \\emph{missing} & 597.029 & 9.59 & \\emph{missing} & \\emph{missing} & 37.746 & 0.5 & 64.83 & 0.498 \\\\\n",
       "\t$\\dots$ & $\\dots$ & $\\dots$ & $\\dots$ & $\\dots$ & $\\dots$ & $\\dots$ & $\\dots$ & $\\dots$ & $\\dots$ & $\\dots$ & $\\dots$ & $\\dots$ & $\\dots$ & $\\dots$ & $\\dots$ & $\\dots$ & $\\dots$ & $\\dots$ & $\\dots$ & $\\dots$ & $\\dots$ & $\\dots$ & $\\dots$ & $\\dots$ & $\\dots$ & $\\dots$ & $\\dots$ & $\\dots$ & $\\dots$ & $\\dots$ & $\\dots$ & $\\dots$ & $\\dots$ & $\\dots$ & $\\dots$ & $\\dots$ & $\\dots$ & $\\dots$ & $\\dots$ & $\\dots$ & $\\dots$ & $\\dots$ & $\\dots$ & $\\dots$ & $\\dots$ & $\\dots$ & $\\dots$ & $\\dots$ & $\\dots$ & $\\dots$ \\\\\n",
       "\\end{tabular}\n"
      ],
      "text/plain": [
       "61935×50 DataFrame\n"
      ]
     },
     "execution_count": 2,
     "metadata": {},
     "output_type": "execute_result"
    }
   ],
   "source": [
    "df = CSV.read(\"../data/owid-covid-data.csv\",DataFrame)"
   ]
  },
  {
   "cell_type": "markdown",
   "metadata": {},
   "source": [
    "### Modeling Daily Deaths"
   ]
  },
  {
   "cell_type": "code",
   "execution_count": 3,
   "metadata": {
    "collapsed": true
   },
   "outputs": [
    {
     "name": "stderr",
     "output_type": "stream",
     "text": [
      "┌ Warning: RCall.jl: ── Attaching packages ─────────────────────────────────────── tidyverse 1.3.0 ──\n",
      "│ ✔ ggplot2 3.3.2     ✔ purrr   0.3.4\n",
      "│ ✔ tibble  3.0.4     ✔ dplyr   1.0.2\n",
      "│ ✔ tidyr   1.1.2     ✔ stringr 1.4.0\n",
      "│ ✔ readr   1.4.0     ✔ forcats 0.5.0\n",
      "│ ── Conflicts ────────────────────────────────────────── tidyverse_conflicts() ──\n",
      "│ ✖ dplyr::filter() masks stats::filter()\n",
      "│ ✖ dplyr::lag()    masks stats::lag()\n",
      "└ @ RCall /Users/ppalmes/.julia/packages/RCall/eRsxl/src/io.jl:160\n",
      "┌ Warning: RCall.jl: \n",
      "│ Attaching package: ‘mice’\n",
      "│ \n",
      "│ The following object is masked from ‘package:stats’:\n",
      "│ \n",
      "│     filter\n",
      "│ \n",
      "│ The following objects are masked from ‘package:base’:\n",
      "│ \n",
      "│     cbind, rbind\n",
      "│ \n",
      "└ @ RCall /Users/ppalmes/.julia/packages/RCall/eRsxl/src/io.jl:160\n",
      "┌ Warning: RCall.jl: `summarise()` ungrouping output (override with `.groups` argument)\n",
      "└ @ RCall /Users/ppalmes/.julia/packages/RCall/eRsxl/src/io.jl:160\n"
     ]
    },
    {
     "data": {
      "text/plain": [
       "RObject{VecSxp}\n",
       "# A tibble: 190 x 12\n",
       "   location mnewcases mnewdeaths mpopulation mcardio mdiab mhandwash  mhbed\n",
       "   <chr>        <dbl>      <dbl>       <dbl>   <dbl> <dbl>     <dbl>  <dbl>\n",
       " 1 Afghani…   149.        6.02      38928341    597.  9.59      37.7   0.5 \n",
       " 2 Albania    150.        3.11       2877800    304. 10.1      NaN     2.89\n",
       " 3 Algeria    283.        7.98      43851043    278.  6.73      83.7   1.9 \n",
       " 4 Andorra     22.6       0.242        77265    109.  7.97     NaN   NaN   \n",
       " 5 Angola      49.8       1.16      32866268    276.  3.94      26.7 NaN   \n",
       " 6 Antigua…     0.459     0.0153       97928    192. 13.2      NaN     3.8 \n",
       " 7 Argenti…  4597.      126.        45195777    191.  5.5      NaN     5   \n",
       " 8 Armenia    455.        7.65       2963234    341.  7.11      94.0   4.2 \n",
       " 9 Austral…    85.8       2.78      25499881    108.  5.07     NaN     3.84\n",
       "10 Austria    994.       13.9        9006400    145.  6.35     NaN     7.37\n",
       "# … with 180 more rows, and 4 more variables: mpatient <dbl>, madmission <dbl>,\n",
       "#   mhdi <dbl>, mle <dbl>\n"
      ]
     },
     "execution_count": 3,
     "metadata": {},
     "output_type": "execute_result"
    }
   ],
   "source": [
    "@rput df\n",
    "R\"\"\"\n",
    "library(tidyverse)\n",
    "library(mice)\n",
    "\n",
    "sdf = df %>% group_by(location) %>% \n",
    "summarise(\n",
    "   mnewcases = mean(new_cases,na.rm=T),\n",
    "   mnewdeaths = mean(new_deaths,na.rm=T),\n",
    "   mpopulation = mean(population,na.rm=T),\n",
    "   mcardio = mean(cardiovasc_death_rate,na.rm=T),\n",
    "   mdiab = mean(diabetes_prevalence,na.rm=T),\n",
    "   mhandwash = mean(handwashing_facilities,na.rm=T),\n",
    "   mhbed = mean(hospital_beds_per_thousand,na.rm=T),\n",
    "   mpatient = mean(hosp_patients,na.rm=T),\n",
    "   madmission = mean(weekly_hosp_admissions,na.rm=T),\n",
    "   mhdi = mean(human_development_index,na.rm=T),\n",
    "   mle = mean(life_expectancy,na.rm=T)\n",
    ") \n",
    "\"\"\" "
   ]
  },
  {
   "cell_type": "code",
   "execution_count": 4,
   "metadata": {
    "collapsed": true
   },
   "outputs": [
    {
     "name": "stderr",
     "output_type": "stream",
     "text": [
      "┌ Warning: RCall.jl: Warning: Number of logged events: 1\n",
      "└ @ RCall /Users/ppalmes/.julia/packages/RCall/eRsxl/src/io.jl:160\n"
     ]
    },
    {
     "data": {
      "text/html": [
       "<table class=\"data-frame\"><thead><tr><th></th><th>location</th><th>mnewcases</th><th>mnewdeaths</th><th>mpopulation</th><th>mcardio</th><th>mdiab</th><th>mhandwash</th><th>mhbed</th><th>mpatient</th><th>madmission</th><th>mhdi</th><th>mle</th></tr><tr><th></th><th>String</th><th>Float64</th><th>Float64</th><th>Float64</th><th>Float64</th><th>Float64</th><th>Float64</th><th>Float64</th><th>Float64</th><th>Float64</th><th>Float64</th><th>Float64</th></tr></thead><tbody><p>190 rows × 12 columns</p><tr><th>1</th><td>Afghanistan</td><td>148.985</td><td>6.02141</td><td>3.89283e7</td><td>597.029</td><td>9.59</td><td>37.746</td><td>0.5</td><td>11864.7</td><td>94.1152</td><td>0.498</td><td>64.83</td></tr><tr><th>2</th><td>Albania</td><td>150.431</td><td>3.10703</td><td>2.8778e6</td><td>304.195</td><td>10.08</td><td>78.463</td><td>2.89</td><td>78.0516</td><td>4369.79</td><td>0.785</td><td>78.57</td></tr><tr><th>3</th><td>Algeria</td><td>283.171</td><td>7.97859</td><td>4.3851e7</td><td>278.364</td><td>6.73</td><td>83.741</td><td>1.9</td><td>4.13636</td><td>373.434</td><td>0.754</td><td>76.88</td></tr><tr><th>4</th><td>Andorra</td><td>22.5749</td><td>0.24159</td><td>77265.0</td><td>109.135</td><td>7.97</td><td>82.502</td><td>3.6</td><td>81.0639</td><td>13.8108</td><td>0.858</td><td>83.73</td></tr><tr><th>5</th><td>Angola</td><td>49.7768</td><td>1.15596</td><td>3.28663e7</td><td>276.045</td><td>3.94</td><td>26.664</td><td>3.84</td><td>78.0516</td><td>2258.26</td><td>0.581</td><td>61.15</td></tr><tr><th>6</th><td>Antigua and Barbuda</td><td>0.458716</td><td>0.0152905</td><td>97928.0</td><td>191.511</td><td>13.17</td><td>19.351</td><td>3.8</td><td>73.0</td><td>94.1152</td><td>0.78</td><td>77.02</td></tr><tr><th>7</th><td>Argentina</td><td>4597.01</td><td>125.508</td><td>4.51958e7</td><td>191.032</td><td>5.5</td><td>84.169</td><td>5.0</td><td>5765.1</td><td>54.6658</td><td>0.825</td><td>76.67</td></tr><tr><th>8</th><td>Armenia</td><td>454.685</td><td>7.65443</td><td>2.96323e6</td><td>341.01</td><td>7.11</td><td>94.043</td><td>4.2</td><td>721.18</td><td>117.604</td><td>0.755</td><td>75.09</td></tr><tr><th>9</th><td>Australia</td><td>85.7737</td><td>2.78287</td><td>2.54999e7</td><td>107.791</td><td>5.07</td><td>86.979</td><td>3.84</td><td>452.962</td><td>94.1152</td><td>0.939</td><td>83.44</td></tr><tr><th>10</th><td>Austria</td><td>994.04</td><td>13.8654</td><td>9.0064e6</td><td>145.183</td><td>6.35</td><td>83.741</td><td>7.37</td><td>721.18</td><td>117.604</td><td>0.908</td><td>81.54</td></tr><tr><th>&vellip;</th><td>&vellip;</td><td>&vellip;</td><td>&vellip;</td><td>&vellip;</td><td>&vellip;</td><td>&vellip;</td><td>&vellip;</td><td>&vellip;</td><td>&vellip;</td><td>&vellip;</td><td>&vellip;</td><td>&vellip;</td></tr></tbody></table>"
      ],
      "text/latex": [
       "\\begin{tabular}{r|cccccccccccc}\n",
       "\t& location & mnewcases & mnewdeaths & mpopulation & mcardio & mdiab & mhandwash & mhbed & mpatient & madmission & mhdi & mle\\\\\n",
       "\t\\hline\n",
       "\t& String & Float64 & Float64 & Float64 & Float64 & Float64 & Float64 & Float64 & Float64 & Float64 & Float64 & Float64\\\\\n",
       "\t\\hline\n",
       "\t1 & Afghanistan & 148.985 & 6.02141 & 3.89283e7 & 597.029 & 9.59 & 37.746 & 0.5 & 11864.7 & 94.1152 & 0.498 & 64.83 \\\\\n",
       "\t2 & Albania & 150.431 & 3.10703 & 2.8778e6 & 304.195 & 10.08 & 78.463 & 2.89 & 78.0516 & 4369.79 & 0.785 & 78.57 \\\\\n",
       "\t3 & Algeria & 283.171 & 7.97859 & 4.3851e7 & 278.364 & 6.73 & 83.741 & 1.9 & 4.13636 & 373.434 & 0.754 & 76.88 \\\\\n",
       "\t4 & Andorra & 22.5749 & 0.24159 & 77265.0 & 109.135 & 7.97 & 82.502 & 3.6 & 81.0639 & 13.8108 & 0.858 & 83.73 \\\\\n",
       "\t5 & Angola & 49.7768 & 1.15596 & 3.28663e7 & 276.045 & 3.94 & 26.664 & 3.84 & 78.0516 & 2258.26 & 0.581 & 61.15 \\\\\n",
       "\t6 & Antigua and Barbuda & 0.458716 & 0.0152905 & 97928.0 & 191.511 & 13.17 & 19.351 & 3.8 & 73.0 & 94.1152 & 0.78 & 77.02 \\\\\n",
       "\t7 & Argentina & 4597.01 & 125.508 & 4.51958e7 & 191.032 & 5.5 & 84.169 & 5.0 & 5765.1 & 54.6658 & 0.825 & 76.67 \\\\\n",
       "\t8 & Armenia & 454.685 & 7.65443 & 2.96323e6 & 341.01 & 7.11 & 94.043 & 4.2 & 721.18 & 117.604 & 0.755 & 75.09 \\\\\n",
       "\t9 & Australia & 85.7737 & 2.78287 & 2.54999e7 & 107.791 & 5.07 & 86.979 & 3.84 & 452.962 & 94.1152 & 0.939 & 83.44 \\\\\n",
       "\t10 & Austria & 994.04 & 13.8654 & 9.0064e6 & 145.183 & 6.35 & 83.741 & 7.37 & 721.18 & 117.604 & 0.908 & 81.54 \\\\\n",
       "\t$\\dots$ & $\\dots$ & $\\dots$ & $\\dots$ & $\\dots$ & $\\dots$ & $\\dots$ & $\\dots$ & $\\dots$ & $\\dots$ & $\\dots$ & $\\dots$ & $\\dots$ \\\\\n",
       "\\end{tabular}\n"
      ],
      "text/plain": [
       "190×12 DataFrame\n"
      ]
     },
     "execution_count": 4,
     "metadata": {},
     "output_type": "execute_result"
    }
   ],
   "source": [
    "dfimp = R\"\"\"\n",
    "           imputed=mice(sdf,meth='sample',printFlag=F)\n",
    "           complete(imputed)\n",
    "        \"\"\" |> rcopy"
   ]
  },
  {
   "cell_type": "code",
   "execution_count": 5,
   "metadata": {
    "collapsed": true
   },
   "outputs": [],
   "source": [
    "X = dfimp[:,Not([:location,:mnewdeaths])]\n",
    "Y = dfimp.mnewdeaths;"
   ]
  },
  {
   "cell_type": "code",
   "execution_count": 6,
   "metadata": {
    "collapsed": true
   },
   "outputs": [
    {
     "name": "stderr",
     "output_type": "stream",
     "text": [
      "┌ Warning: RCall.jl: Loading required package: lattice\n",
      "│ \n",
      "│ Attaching package: ‘caret’\n",
      "│ \n",
      "│ The following object is masked from ‘package:purrr’:\n",
      "│ \n",
      "│     lift\n",
      "│ \n",
      "└ @ RCall /Users/ppalmes/.julia/packages/RCall/eRsxl/src/io.jl:160\n"
     ]
    },
    {
     "data": {
      "text/plain": [
       "RObject{VecSxp}\n",
       "Random Forest \n",
       "\n",
       "190 samples\n",
       " 10 predictor\n",
       "\n",
       "No pre-processing\n",
       "Resampling: Cross-Validated (5 fold, repeated 1 times) \n",
       "Summary of sample sizes: 152, 151, 152, 154, 151 \n",
       "Resampling results across tuning parameters:\n",
       "\n",
       "  mtry  RMSE      Rsquared   MAE     \n",
       "   2    61.73072  0.5585444  23.70776\n",
       "   6    51.11467  0.6696041  15.84782\n",
       "  10    44.38551  0.7462063  12.22020\n",
       "\n",
       "RMSE was used to select the optimal model using the smallest value.\n",
       "The final value used for the model was mtry = 10.\n"
      ]
     },
     "execution_count": 6,
     "metadata": {},
     "output_type": "execute_result"
    }
   ],
   "source": [
    "R\"\"\"\n",
    "library(caret)\n",
    "fitControl <- trainControl(method = \"repeatedcv\",number = 5)\n",
    "rfcaret <- train($X,$Y, method = \"rf\", trControl = fitControl)\n",
    "rfcaret\n",
    "\"\"\""
   ]
  },
  {
   "cell_type": "code",
   "execution_count": 7,
   "metadata": {
    "collapsed": true
   },
   "outputs": [
    {
     "name": "stderr",
     "output_type": "stream",
     "text": [
      "┌ Warning: RCall.jl: randomForest 4.6-14\n",
      "│ Type rfNews() to see new features/changes/bug fixes.\n",
      "│ \n",
      "│ Attaching package: ‘randomForest’\n",
      "│ \n",
      "│ The following object is masked from ‘package:dplyr’:\n",
      "│ \n",
      "│     combine\n",
      "│ \n",
      "│ The following object is masked from ‘package:ggplot2’:\n",
      "│ \n",
      "│     margin\n",
      "│ \n",
      "└ @ RCall /Users/ppalmes/.julia/packages/RCall/eRsxl/src/io.jl:160\n"
     ]
    },
    {
     "data": {
      "text/plain": [
       "RObject{VecSxp}\n",
       "\n",
       "Call:\n",
       " randomForest(x = `#JL`$X, y = `#JL`$Y, mtry = 6) \n",
       "               Type of random forest: regression\n",
       "                     Number of trees: 500\n",
       "No. of variables tried at each split: 6\n",
       "\n",
       "          Mean of squared residuals: 2963.634\n",
       "                    % Var explained: 65.01\n"
      ]
     },
     "execution_count": 7,
     "metadata": {},
     "output_type": "execute_result"
    }
   ],
   "source": [
    "R\"\"\"\n",
    "library(randomForest)\n",
    "model = randomForest($X,$Y,mtry=6)\n",
    "\"\"\""
   ]
  },
  {
   "cell_type": "code",
   "execution_count": 8,
   "metadata": {
    "collapsed": true
   },
   "outputs": [
    {
     "data": {
      "image/png": "[encoded data removed]"
     },
     "metadata": {},
     "output_type": "display_data"
    },
    {
     "data": {
      "text/plain": [
       "RObject{RealSxp}\n",
       "            IncNodePurity\n",
       "mnewcases       953732.24\n",
       "mpopulation     316185.76\n",
       "mcardio          45766.13\n",
       "mdiab            18195.91\n",
       "mhandwash        15374.42\n",
       "mhbed            16822.54\n",
       "mpatient         46368.19\n",
       "madmission       10976.18\n",
       "mhdi             25379.02\n",
       "mle              16057.11\n"
      ]
     },
     "execution_count": 8,
     "metadata": {},
     "output_type": "execute_result"
    }
   ],
   "source": [
    "R\"varImpPlot(model)\""
   ]
  },
  {
   "cell_type": "markdown",
   "metadata": {},
   "source": [
    "### Create model per country using Distributed approach"
   ]
  },
  {
   "cell_type": "code",
   "execution_count": 9,
   "metadata": {
    "collapsed": true
   },
   "outputs": [
    {
     "name": "stderr",
     "output_type": "stream",
     "text": [
      "┌ Warning: RCall.jl: \n",
      "│ Attaching package: ‘lubridate’\n",
      "│ \n",
      "│ The following objects are masked from ‘package:base’:\n",
      "│ \n",
      "│     date, intersect, setdiff, union\n",
      "│ \n",
      "└ @ RCall /Users/ppalmes/.julia/packages/RCall/eRsxl/src/io.jl:160\n",
      "┌ Warning: RCall.jl: `summarise()` regrouping output by 'location' (override with `.groups` argument)\n",
      "└ @ RCall /Users/ppalmes/.julia/packages/RCall/eRsxl/src/io.jl:160\n",
      "┌ Warning: RCall.jl: Warning: Number of logged events: 1\n",
      "└ @ RCall /Users/ppalmes/.julia/packages/RCall/eRsxl/src/io.jl:160\n"
     ]
    },
    {
     "data": {
      "text/html": [
       "<table class=\"data-frame\"><thead><tr><th></th><th>location</th><th>week</th><th>mnewcases</th><th>mnewdeaths</th><th>mpopulation</th><th>mcardio</th><th>mdiab</th><th>mhandwash</th><th>mhbed</th><th>mpatient</th><th>madmission</th><th>mhdi</th><th>mle</th></tr><tr><th></th><th>String</th><th>Float64</th><th>Float64</th><th>Float64</th><th>Float64</th><th>Float64</th><th>Float64</th><th>Float64</th><th>Float64</th><th>Float64</th><th>Float64</th><th>Float64</th><th>Float64</th></tr></thead><tbody><p>8,911 rows × 13 columns</p><tr><th>1</th><td>Afghanistan</td><td>4.0</td><td>0.0</td><td>0.0</td><td>3.89283e7</td><td>597.029</td><td>9.59</td><td>37.746</td><td>0.5</td><td>18144.6</td><td>4007.38</td><td>0.498</td><td>64.83</td></tr><tr><th>2</th><td>Afghanistan</td><td>5.0</td><td>0.0</td><td>0.0</td><td>3.89283e7</td><td>597.029</td><td>9.59</td><td>37.746</td><td>0.5</td><td>1967.0</td><td>146.849</td><td>0.498</td><td>64.83</td></tr><tr><th>3</th><td>Afghanistan</td><td>6.0</td><td>0.0</td><td>0.0</td><td>3.89283e7</td><td>597.029</td><td>9.59</td><td>37.746</td><td>0.5</td><td>19.75</td><td>113.114</td><td>0.498</td><td>64.83</td></tr><tr><th>4</th><td>Afghanistan</td><td>7.0</td><td>0.0</td><td>0.0</td><td>3.89283e7</td><td>597.029</td><td>9.59</td><td>37.746</td><td>0.5</td><td>0.0</td><td>162.725</td><td>0.498</td><td>64.83</td></tr><tr><th>5</th><td>Afghanistan</td><td>8.0</td><td>0.142857</td><td>0.0</td><td>3.89283e7</td><td>597.029</td><td>9.59</td><td>37.746</td><td>0.5</td><td>354.857</td><td>14.096</td><td>0.498</td><td>64.83</td></tr><tr><th>6</th><td>Afghanistan</td><td>9.0</td><td>0.142857</td><td>0.0</td><td>3.89283e7</td><td>597.029</td><td>9.59</td><td>37.746</td><td>0.5</td><td>1.0</td><td>5.0</td><td>0.498</td><td>64.83</td></tr><tr><th>7</th><td>Afghanistan</td><td>10.0</td><td>0.857143</td><td>0.0</td><td>3.89283e7</td><td>597.029</td><td>9.59</td><td>37.746</td><td>0.5</td><td>320.571</td><td>42.0</td><td>0.498</td><td>64.83</td></tr><tr><th>8</th><td>Afghanistan</td><td>11.0</td><td>1.71429</td><td>0.0</td><td>3.89283e7</td><td>597.029</td><td>9.59</td><td>37.746</td><td>0.5</td><td>507.429</td><td>5487.14</td><td>0.498</td><td>64.83</td></tr><tr><th>9</th><td>Afghanistan</td><td>12.0</td><td>3.28571</td><td>0.142857</td><td>3.89283e7</td><td>597.029</td><td>9.59</td><td>37.746</td><td>0.5</td><td>6.28571</td><td>26171.5</td><td>0.498</td><td>64.83</td></tr><tr><th>10</th><td>Afghanistan</td><td>13.0</td><td>18.8571</td><td>0.428571</td><td>3.89283e7</td><td>597.029</td><td>9.59</td><td>37.746</td><td>0.5</td><td>149.0</td><td>107.595</td><td>0.498</td><td>64.83</td></tr><tr><th>&vellip;</th><td>&vellip;</td><td>&vellip;</td><td>&vellip;</td><td>&vellip;</td><td>&vellip;</td><td>&vellip;</td><td>&vellip;</td><td>&vellip;</td><td>&vellip;</td><td>&vellip;</td><td>&vellip;</td><td>&vellip;</td><td>&vellip;</td></tr></tbody></table>"
      ],
      "text/latex": [
       "\\begin{tabular}{r|ccccccccccccc}\n",
       "\t& location & week & mnewcases & mnewdeaths & mpopulation & mcardio & mdiab & mhandwash & mhbed & mpatient & madmission & mhdi & mle\\\\\n",
       "\t\\hline\n",
       "\t& String & Float64 & Float64 & Float64 & Float64 & Float64 & Float64 & Float64 & Float64 & Float64 & Float64 & Float64 & Float64\\\\\n",
       "\t\\hline\n",
       "\t1 & Afghanistan & 4.0 & 0.0 & 0.0 & 3.89283e7 & 597.029 & 9.59 & 37.746 & 0.5 & 18144.6 & 4007.38 & 0.498 & 64.83 \\\\\n",
       "\t2 & Afghanistan & 5.0 & 0.0 & 0.0 & 3.89283e7 & 597.029 & 9.59 & 37.746 & 0.5 & 1967.0 & 146.849 & 0.498 & 64.83 \\\\\n",
       "\t3 & Afghanistan & 6.0 & 0.0 & 0.0 & 3.89283e7 & 597.029 & 9.59 & 37.746 & 0.5 & 19.75 & 113.114 & 0.498 & 64.83 \\\\\n",
       "\t4 & Afghanistan & 7.0 & 0.0 & 0.0 & 3.89283e7 & 597.029 & 9.59 & 37.746 & 0.5 & 0.0 & 162.725 & 0.498 & 64.83 \\\\\n",
       "\t5 & Afghanistan & 8.0 & 0.142857 & 0.0 & 3.89283e7 & 597.029 & 9.59 & 37.746 & 0.5 & 354.857 & 14.096 & 0.498 & 64.83 \\\\\n",
       "\t6 & Afghanistan & 9.0 & 0.142857 & 0.0 & 3.89283e7 & 597.029 & 9.59 & 37.746 & 0.5 & 1.0 & 5.0 & 0.498 & 64.83 \\\\\n",
       "\t7 & Afghanistan & 10.0 & 0.857143 & 0.0 & 3.89283e7 & 597.029 & 9.59 & 37.746 & 0.5 & 320.571 & 42.0 & 0.498 & 64.83 \\\\\n",
       "\t8 & Afghanistan & 11.0 & 1.71429 & 0.0 & 3.89283e7 & 597.029 & 9.59 & 37.746 & 0.5 & 507.429 & 5487.14 & 0.498 & 64.83 \\\\\n",
       "\t9 & Afghanistan & 12.0 & 3.28571 & 0.142857 & 3.89283e7 & 597.029 & 9.59 & 37.746 & 0.5 & 6.28571 & 26171.5 & 0.498 & 64.83 \\\\\n",
       "\t10 & Afghanistan & 13.0 & 18.8571 & 0.428571 & 3.89283e7 & 597.029 & 9.59 & 37.746 & 0.5 & 149.0 & 107.595 & 0.498 & 64.83 \\\\\n",
       "\t$\\dots$ & $\\dots$ & $\\dots$ & $\\dots$ & $\\dots$ & $\\dots$ & $\\dots$ & $\\dots$ & $\\dots$ & $\\dots$ & $\\dots$ & $\\dots$ & $\\dots$ & $\\dots$ \\\\\n",
       "\\end{tabular}\n"
      ],
      "text/plain": [
       "8911×13 DataFrame\n"
      ]
     },
     "execution_count": 9,
     "metadata": {},
     "output_type": "execute_result"
    }
   ],
   "source": [
    "@rput df\n",
    "dfcw = R\"\"\"\n",
    "library(tidyverse)\n",
    "library(mice)\n",
    "library(lubridate)\n",
    "\n",
    "dfcm = df %>% group_by(location,week=week(date)) %>% \n",
    "summarise(\n",
    "   mnewcases = mean(new_cases,na.rm=T),\n",
    "   mnewdeaths = mean(new_deaths,na.rm=T),\n",
    "   mpopulation = mean(population,na.rm=T),\n",
    "   mcardio = mean(cardiovasc_death_rate,na.rm=T),\n",
    "   mdiab = mean(diabetes_prevalence,na.rm=T),\n",
    "   mhandwash = mean(handwashing_facilities,na.rm=T),\n",
    "   mhbed = mean(hospital_beds_per_thousand,na.rm=T),\n",
    "   mpatient = mean(hosp_patients,na.rm=T),\n",
    "   madmission = mean(weekly_hosp_admissions,na.rm=T),\n",
    "   mhdi = mean(human_development_index,na.rm=T),\n",
    "   mle = mean(life_expectancy,na.rm=T)\n",
    ") \n",
    "imp = mice(dfcm,method=\"sample\",printFlag=F)\n",
    "complete(imp)\n",
    "\"\"\"  |> rcopy"
   ]
  },
  {
   "cell_type": "code",
   "execution_count": 10,
   "metadata": {
    "collapsed": true
   },
   "outputs": [
    {
     "name": "stderr",
     "output_type": "stream",
     "text": [
      "┌ Warning: RCall.jl: Warning in randomForest.default(m, y, ...) :\n",
      "│   The response has five or fewer unique values.  Are you sure you want to do regression?\n",
      "└ @ RCall /Users/ppalmes/.julia/packages/RCall/eRsxl/src/io.jl:160\n",
      "┌ Warning: RCall.jl: Warning in randomForest.default(m, y, ...) :\n",
      "│   The response has five or fewer unique values.  Are you sure you want to do regression?\n",
      "└ @ RCall /Users/ppalmes/.julia/packages/RCall/eRsxl/src/io.jl:160\n",
      "┌ Warning: RCall.jl: Warning in randomForest.default(m, y, ...) :\n",
      "│   The response has five or fewer unique values.  Are you sure you want to do regression?\n",
      "└ @ RCall /Users/ppalmes/.julia/packages/RCall/eRsxl/src/io.jl:160\n",
      "┌ Warning: RCall.jl: Warning in randomForest.default(m, y, ...) :\n",
      "│   The response has five or fewer unique values.  Are you sure you want to do regression?\n",
      "└ @ RCall /Users/ppalmes/.julia/packages/RCall/eRsxl/src/io.jl:160\n",
      "┌ Warning: RCall.jl: Warning in randomForest.default(m, y, ...) :\n",
      "│   The response has five or fewer unique values.  Are you sure you want to do regression?\n",
      "└ @ RCall /Users/ppalmes/.julia/packages/RCall/eRsxl/src/io.jl:160\n"
     ]
    },
    {
     "data": {
      "text/plain": [
       "Task (done) @0x0000000105075450"
      ]
     },
     "execution_count": 10,
     "metadata": {},
     "output_type": "execute_result"
    }
   ],
   "source": [
    "gmodels = Dict()\n",
    "@async for subgp in groupby(dfcw,[:location])\n",
    "    x = subgp[:,Not([:location,:week])]\n",
    "    gmodels[subgp.location[1]]=R\"randomForest(mnewcases ~ .,data=$x)\"\n",
    "end"
   ]
  },
  {
   "cell_type": "code",
   "execution_count": 17,
   "metadata": {
    "collapsed": true
   },
   "outputs": [
    {
     "data": {
      "text/plain": [
       "Dict{Any,Any} with 190 entries:\n",
       "  \"Peru\"            => RObject{VecSxp}…\n",
       "  \"Indonesia\"       => RObject{VecSxp}…\n",
       "  \"Gabon\"           => RObject{VecSxp}…\n",
       "  \"North Macedonia\" => RObject{VecSxp}…\n",
       "  \"Bangladesh\"      => RObject{VecSxp}…\n",
       "  ⋮                 => ⋮"
      ]
     },
     "execution_count": 17,
     "metadata": {},
     "output_type": "execute_result"
    }
   ],
   "source": [
    "gmodels"
   ]
  },
  {
   "cell_type": "code",
   "execution_count": 16,
   "metadata": {
    "collapsed": true
   },
   "outputs": [
    {
     "data": {
      "text/plain": [
       "RObject{VecSxp}\n",
       "\n",
       "Call:\n",
       " randomForest(formula = mnewcases ~ ., data = `#JL`$x) \n",
       "               Type of random forest: regression\n",
       "                     Number of trees: 500\n",
       "No. of variables tried at each split: 3\n",
       "\n",
       "          Mean of squared residuals: 11941187\n",
       "                    % Var explained: 62.64\n"
      ]
     },
     "execution_count": 16,
     "metadata": {},
     "output_type": "execute_result"
    }
   ],
   "source": [
    "gmodels[\"Spain\"]"
   ]
  },
  {
   "cell_type": "code",
   "execution_count": 23,
   "metadata": {
    "collapsed": true
   },
   "outputs": [
    {
     "name": "stdout",
     "output_type": "stream",
     "text": [
      "      From worker 8:\tprocessing:Samoa\n",
      "      From worker 4:\tprocessing:Dominica\n",
      "      From worker 9:\tprocessing:Taiwan\n",
      "      From worker 6:\tprocessing:Liberia\n",
      "      From worker 2:\tprocessing:Afghanistan\n",
      "      From worker 3:\tprocessing:Brunei\n",
      "      From worker 5:\tprocessing:Haiti\n",
      "      From worker 7:\tprocessing:Netherlands\n",
      "      From worker 8:\tprocessing:San Marino\n",
      "      From worker 6:\tprocessing:Libya\n",
      "      From worker 2:\tprocessing:Albania\n",
      "      From worker 4:\tprocessing:Dominican Republic\n",
      "      From worker 5:\tprocessing:Honduras\n",
      "      From worker 3:\tprocessing:Bulgaria\n",
      "      From worker 7:\tprocessing:New Zealand\n"
     ]
    },
    {
     "name": "stderr",
     "output_type": "stream",
     "text": [
      "┌ Warning: RCall.jl: Warning in randomForest.default(m, y, ...) :\n",
      "│   The response has five or fewer unique values.  Are you sure you want to do regression?\n",
      "└ @ RCall ~/.julia/packages/RCall/eRsxl/src/io.jl:160\n"
     ]
    },
    {
     "name": "stdout",
     "output_type": "stream",
     "text": [
      "      From worker 4:\tprocessing:Ecuador\n",
      "      From worker 5:\tprocessing:Hong Kong\n",
      "      From worker 6:\tprocessing:Liechtenstein\n",
      "      From worker 9:\tprocessing:Tajikistan\n",
      "      From worker 2:\tprocessing:Algeria\n",
      "      From worker 4:\tprocessing:Egypt\n",
      "      From worker 8:\tprocessing:Sao Tome and Principe\n",
      "      From worker 5:\tprocessing:Hungary\n",
      "      From worker 3:\tprocessing:Burkina Faso\n",
      "      From worker 7:\tprocessing:Nicaragua\n",
      "      From worker 2:\tprocessing:Andorra\n",
      "      From worker 8:\tprocessing:Saudi Arabia\n",
      "      From worker 9:\tprocessing:Tanzania\n",
      "      From worker 6:\tprocessing:Lithuania\n",
      "      From worker 3:\tprocessing:Burundi\n",
      "      From worker 4:\tprocessing:El Salvador\n",
      "      From worker 5:\tprocessing:Iceland\n",
      "      From worker 9:\tprocessing:Thailand\n",
      "      From worker 7:\tprocessing:Niger\n",
      "      From worker 3:\tprocessing:Cambodia\n",
      "      From worker 4:\tprocessing:Equatorial Guinea\n",
      "      From worker 2:\tprocessing:Angola\n",
      "      From worker 8:\tprocessing:Senegal\n",
      "      From worker 6:\tprocessing:Luxembourg\n",
      "      From worker 7:\tprocessing:Nigeria\n",
      "      From worker 5:\tprocessing:India\n",
      "      From worker 9:\tprocessing:Timor\n",
      "      From worker 3:\tprocessing:Cameroon\n",
      "      From worker 4:\tprocessing:Eritrea\n",
      "      From worker 8:\tprocessing:Serbia\n",
      "      From worker 9:\tprocessing:Togo\n",
      "      From worker 2:\tprocessing:Antigua and Barbuda\n",
      "      From worker 6:\tprocessing:Madagascar\n",
      "      From worker 5:\tprocessing:Indonesia\n",
      "      From worker 3:\tprocessing:Canada\n",
      "      From worker 7:\tprocessing:North Macedonia\n"
     ]
    },
    {
     "name": "stderr",
     "output_type": "stream",
     "text": [
      "┌ Warning: RCall.jl: Warning in randomForest.default(m, y, ...) :\n",
      "│   The response has five or fewer unique values.  Are you sure you want to do regression?\n",
      "└ @ RCall ~/.julia/packages/RCall/eRsxl/src/io.jl:160\n"
     ]
    },
    {
     "name": "stdout",
     "output_type": "stream",
     "text": [
      "      From worker 9:\tprocessing:Trinidad and Tobago\n",
      "      From worker 4:\tprocessing:Estonia\n",
      "      From worker 8:\tprocessing:Seychelles\n",
      "      From worker 6:\tprocessing:Malawi\n",
      "      From worker 5:\tprocessing:Iran\n",
      "      From worker 2:\tprocessing:Argentina\n",
      "      From worker 3:\tprocessing:Cape Verde\n",
      "      From worker 6:\tprocessing:Malaysia\n",
      "      From worker 7:\tprocessing:Norway\n",
      "      From worker 9:\tprocessing:Tunisia\n",
      "      From worker 4:\tprocessing:Eswatini\n",
      "      From worker 8:\tprocessing:Sierra Leone\n",
      "      From worker 2:\tprocessing:Armenia\n",
      "      From worker 5:\tprocessing:Iraq\n",
      "      From worker 9:\tprocessing:Turkey\n",
      "      From worker 4:\tprocessing:Ethiopia\n",
      "      From worker 7:\tprocessing:Oman\n",
      "      From worker 3:\tprocessing:Central African Republic\n",
      "      From worker 8:\tprocessing:Singapore\n",
      "      From worker 6:\tprocessing:Maldives\n",
      "      From worker 2:\tprocessing:Australia\n",
      "      From worker 5:\tprocessing:Ireland\n",
      "      From worker 7:\tprocessing:Pakistan\n",
      "      From worker 4:\tprocessing:Fiji\n",
      "      From worker 3:\tprocessing:Chad\n",
      "      From worker 9:\tprocessing:Uganda\n",
      "      From worker 8:\tprocessing:Slovakia\n",
      "      From worker 6:\tprocessing:Mali\n",
      "      From worker 5:\tprocessing:Israel\n",
      "      From worker 9:\tprocessing:Ukraine\n",
      "      From worker 4:\tprocessing:Finland\n",
      "      From worker 7:\tprocessing:Palestine\n",
      "      From worker 2:\tprocessing:Austria\n",
      "      From worker 3:\tprocessing:Chile\n",
      "      From worker 6:\tprocessing:Malta\n",
      "      From worker 8:\tprocessing:Slovenia\n",
      "      From worker 5:\tprocessing:Italy\n",
      "      From worker 4:\tprocessing:France\n",
      "      From worker 9:\tprocessing:United Arab Emirates\n",
      "      From worker 2:\tprocessing:Azerbaijan\n",
      "      From worker 3:\tprocessing:China\n",
      "      From worker 7:\tprocessing:Panama\n",
      "      From worker 6:\tprocessing:Marshall Islands\n",
      "      From worker 8:\tprocessing:Solomon Islands\n",
      "      From worker 6:\tprocessing:Mauritania\n",
      "      From worker 2:\tprocessing:Bahamas\n",
      "      From worker 5:\tprocessing:Jamaica\n",
      "      From worker 4:\tprocessing:Gabon\n",
      "      From worker 8:\tprocessing:Somalia\n",
      "      From worker 9:\tprocessing:United Kingdom\n",
      "      From worker 3:\tprocessing:Colombia\n",
      "      From worker 7:\tprocessing:Papua New Guinea\n",
      "      From worker 5:\tprocessing:Japan\n",
      "      From worker 2:\tprocessing:Bahrain\n",
      "      From worker 6:\tprocessing:Mauritius\n",
      "      From worker 3:\tprocessing:Comoros\n",
      "      From worker 4:\tprocessing:Gambia\n",
      "      From worker 9:\tprocessing:United States\n"
     ]
    },
    {
     "name": "stderr",
     "output_type": "stream",
     "text": [
      "┌ Warning: RCall.jl: Warning in randomForest.default(m, y, ...) :\n",
      "│   The response has five or fewer unique values.  Are you sure you want to do regression?\n",
      "└ @ RCall ~/.julia/packages/RCall/eRsxl/src/io.jl:160\n",
      "┌ Warning: RCall.jl: Warning in randomForest.default(m, y, ...) :\n",
      "│   The response has five or fewer unique values.  Are you sure you want to do regression?\n",
      "└ @ RCall ~/.julia/packages/RCall/eRsxl/src/io.jl:160\n"
     ]
    },
    {
     "name": "stdout",
     "output_type": "stream",
     "text": [
      "      From worker 8:\tprocessing:South Africa\n",
      "      From worker 7:\tprocessing:Paraguay\n",
      "      From worker 3:\tprocessing:Congo\n",
      "      From worker 6:\tprocessing:Mexico\n",
      "      From worker 5:\tprocessing:Jordan\n",
      "      From worker 2:\tprocessing:Bangladesh\n",
      "      From worker 4:\tprocessing:Georgia\n",
      "      From worker 9:\tprocessing:Uruguay\n",
      "      From worker 8:\tprocessing:South Korea\n",
      "      From worker 7:\tprocessing:Peru\n",
      "      From worker 2:\tprocessing:Barbados\n",
      "      From worker 6:\tprocessing:Moldova\n",
      "      From worker 5:\tprocessing:Kazakhstan\n",
      "      From worker 3:\tprocessing:Costa Rica\n",
      "      From worker 9:\tprocessing:Uzbekistan\n",
      "      From worker 4:\tprocessing:Germany\n",
      "      From worker 8:\tprocessing:South Sudan\n",
      "      From worker 2:\tprocessing:Belarus\n",
      "      From worker 6:\tprocessing:Monaco\n",
      "      From worker 7:\tprocessing:Philippines\n",
      "      From worker 3:\tprocessing:Cote d'Ivoire\n",
      "      From worker 5:\tprocessing:Kenya\n",
      "      From worker 4:\tprocessing:Ghana\n",
      "      From worker 9:\tprocessing:Vanuatu\n",
      "      From worker 7:\tprocessing:Poland\n",
      "      From worker 3:\tprocessing:Croatia\n",
      "      From worker 8:\tprocessing:Spain\n",
      "      From worker 2:\tprocessing:Belgium\n",
      "      From worker 5:\tprocessing:Kosovo\n",
      "      From worker 9:\tprocessing:Vatican\n"
     ]
    },
    {
     "name": "stderr",
     "output_type": "stream",
     "text": [
      "┌ Warning: RCall.jl: Warning in randomForest.default(m, y, ...) :\n",
      "│   The response has five or fewer unique values.  Are you sure you want to do regression?\n",
      "└ @ RCall ~/.julia/packages/RCall/eRsxl/src/io.jl:160\n"
     ]
    },
    {
     "name": "stdout",
     "output_type": "stream",
     "text": [
      "      From worker 6:\tprocessing:Mongolia\n",
      "      From worker 7:\tprocessing:Portugal\n",
      "      From worker 4:\tprocessing:Greece\n",
      "      From worker 2:\tprocessing:Belize\n",
      "      From worker 8:\tprocessing:Sri Lanka\n",
      "      From worker 6:\tprocessing:Montenegro\n",
      "      From worker 3:\tprocessing:Cuba\n",
      "      From worker 4:\tprocessing:Grenada\n",
      "      From worker 7:\tprocessing:Qatar\n",
      "      From worker 2:\tprocessing:Benin\n",
      "      From worker 5:\tprocessing:Kuwait\n",
      "      From worker 9:\tprocessing:Venezuela\n",
      "      From worker 8:\tprocessing:Sudan\n",
      "      From worker 3:\tprocessing:Cyprus\n",
      "      From worker 6:\tprocessing:Morocco\n",
      "      From worker 4:\tprocessing:Guatemala\n",
      "      From worker 2:\tprocessing:Bhutan\n",
      "      From worker 5:\tprocessing:Kyrgyzstan\n",
      "      From worker 9:\tprocessing:Vietnam\n",
      "      From worker 8:\tprocessing:Suriname\n",
      "      From worker 7:\tprocessing:Romania\n",
      "      From worker 2:\tprocessing:Bolivia\n",
      "      From worker 3:\tprocessing:Czechia\n",
      "      From worker 4:\tprocessing:Guinea\n",
      "      From worker 6:\tprocessing:Mozambique\n",
      "      From worker 9:\tprocessing:Yemen\n",
      "      From worker 5:\tprocessing:Laos\n",
      "      From worker 2:\tprocessing:Bosnia and Herzegovina\n",
      "      From worker 8:\tprocessing:Sweden\n",
      "      From worker 4:\tprocessing:Guinea-Bissau\n",
      "      From worker 9:\tprocessing:Zambia\n",
      "      From worker 7:\tprocessing:Russia\n",
      "      From worker 3:\tprocessing:Democratic Republic of Congo\n",
      "      From worker 6:\tprocessing:Myanmar\n",
      "      From worker 5:\tprocessing:Latvia\n",
      "      From worker 2:\tprocessing:Botswana\n",
      "      From worker 8:\tprocessing:Switzerland\n",
      "      From worker 6:\tprocessing:Namibia\n",
      "      From worker 9:\tprocessing:Zimbabwe\n",
      "      From worker 4:\tprocessing:Guyana\n",
      "      From worker 7:\tprocessing:Rwanda\n",
      "      From worker 3:\tprocessing:Denmark\n",
      "      From worker 5:\tprocessing:Lebanon\n",
      "      From worker 2:\tprocessing:Brazil\n",
      "      From worker 6:\tprocessing:Nepal\n",
      "      From worker 8:\tprocessing:Syria\n",
      "      From worker 7:\tprocessing:Saint Kitts and Nevis\n",
      "      From worker 5:\tprocessing:Lesotho\n",
      "      From worker 3:\tprocessing:Djibouti\n",
      "      From worker 7:\tprocessing:Saint Lucia\n",
      "      From worker 7:\tprocessing:Saint Vincent and the Grenadines\n"
     ]
    },
    {
     "data": {
      "text/plain": [
       "Task (done) @0x0000000106d14250"
      ]
     },
     "execution_count": 23,
     "metadata": {},
     "output_type": "execute_result"
    }
   ],
   "source": [
    "using Distributed\n",
    "nprocs() == 1 && addprocs(;exeflags=\"--project\")\n",
    "@everywhere using RCall\n",
    "@everywhere using DataFrames\n",
    "@everywhere using DataFramesMeta\n",
    "\n",
    "locations = unique(dfcw.location)\n",
    "\n",
    "dmodels=@sync @distributed for loc in locations\n",
    "   println(\"processing:\",loc)\n",
    "   R\"library(randomForest)\"\n",
    "   subgp = @where(dfcw,:location .== loc)\n",
    "   xd = subgp[:,Not([:location,:week])]\n",
    "   R\"\"\"\n",
    "     model=randomForest(mnewcases ~ .,data=$xd)\n",
    "     save(model,file=paste0(\"models/\",$loc,\".model\"))\n",
    "    \"\"\"\n",
    "end"
   ]
  },
  {
   "cell_type": "code",
   "execution_count": 19,
   "metadata": {
    "collapsed": true
   },
   "outputs": [
    {
     "name": "stdout",
     "output_type": "stream",
     "text": [
      "Afghanistan.model\n",
      "Albania.model\n",
      "Algeria.model\n",
      "Andorra.model\n",
      "Angola.model\n",
      "Antigua and Barbuda.model\n",
      "Argentina.model\n",
      "Armenia.model\n",
      "Australia.model\n",
      "Austria.model\n",
      "Azerbaijan.model\n",
      "Bahamas.model\n",
      "Bahrain.model\n",
      "Bangladesh.model\n",
      "Barbados.model\n",
      "Belarus.model\n",
      "Belgium.model\n",
      "Belize.model\n",
      "Benin.model\n",
      "Bhutan.model\n",
      "Bolivia.model\n",
      "Bosnia and Herzegovina.model\n",
      "Botswana.model\n",
      "Brazil.model\n",
      "Brunei.model\n",
      "Bulgaria.model\n",
      "Burkina Faso.model\n",
      "Burundi.model\n",
      "Cambodia.model\n",
      "Cameroon.model\n",
      "Canada.model\n",
      "Cape Verde.model\n",
      "Central African Republic.model\n",
      "Chad.model\n",
      "Chile.model\n",
      "China.model\n",
      "Colombia.model\n",
      "Comoros.model\n",
      "Congo.model\n",
      "Costa Rica.model\n",
      "Cote d'Ivoire.model\n",
      "Croatia.model\n",
      "Cuba.model\n",
      "Cyprus.model\n",
      "Czechia.model\n",
      "Democratic Republic of Congo.model\n",
      "Denmark.model\n",
      "Djibouti.model\n",
      "Dominica.model\n",
      "Dominican Republic.model\n",
      "Ecuador.model\n",
      "Egypt.model\n",
      "El Salvador.model\n",
      "Equatorial Guinea.model\n",
      "Eritrea.model\n",
      "Estonia.model\n",
      "Eswatini.model\n",
      "Ethiopia.model\n",
      "Fiji.model\n",
      "Finland.model\n",
      "France.model\n",
      "Gabon.model\n",
      "Gambia.model\n",
      "Georgia.model\n",
      "Germany.model\n",
      "Ghana.model\n",
      "Greece.model\n",
      "Grenada.model\n",
      "Guatemala.model\n",
      "Guinea-Bissau.model\n",
      "Guinea.model\n",
      "Guyana.model\n",
      "Haiti.model\n",
      "Honduras.model\n",
      "Hong Kong.model\n",
      "Hungary.model\n",
      "Iceland.model\n",
      "India.model\n",
      "Indonesia.model\n",
      "Iran.model\n",
      "Iraq.model\n",
      "Ireland.model\n",
      "Israel.model\n",
      "Italy.model\n",
      "Jamaica.model\n",
      "Japan.model\n",
      "Jordan.model\n",
      "Kazakhstan.model\n",
      "Kenya.model\n",
      "Kosovo.model\n",
      "Kuwait.model\n",
      "Kyrgyzstan.model\n",
      "Laos.model\n",
      "Latvia.model\n",
      "Lebanon.model\n",
      "Lesotho.model\n",
      "Liberia.model\n",
      "Libya.model\n",
      "Liechtenstein.model\n",
      "Lithuania.model\n",
      "Luxembourg.model\n",
      "Madagascar.model\n",
      "Malawi.model\n",
      "Malaysia.model\n",
      "Maldives.model\n",
      "Mali.model\n",
      "Malta.model\n",
      "Marshall Islands.model\n",
      "Mauritania.model\n",
      "Mauritius.model\n",
      "Mexico.model\n",
      "Moldova.model\n",
      "Monaco.model\n",
      "Mongolia.model\n",
      "Montenegro.model\n",
      "Morocco.model\n",
      "Mozambique.model\n",
      "Myanmar.model\n",
      "Namibia.model\n",
      "Nepal.model\n",
      "Netherlands.model\n",
      "New Zealand.model\n",
      "Nicaragua.model\n",
      "Niger.model\n",
      "Nigeria.model\n",
      "North Macedonia.model\n",
      "Norway.model\n",
      "Oman.model\n",
      "Pakistan.model\n",
      "Palestine.model\n",
      "Panama.model\n",
      "Papua New Guinea.model\n",
      "Paraguay.model\n",
      "Peru.model\n",
      "Philippines.model\n",
      "Poland.model\n",
      "Portugal.model\n",
      "Qatar.model\n",
      "Romania.model\n",
      "Russia.model\n",
      "Rwanda.model\n",
      "Saint Kitts and Nevis.model\n",
      "Saint Lucia.model\n",
      "Saint Vincent and the Grenadines.model\n",
      "Samoa.model\n",
      "San Marino.model\n",
      "Sao Tome and Principe.model\n",
      "Saudi Arabia.model\n",
      "Senegal.model\n",
      "Serbia.model\n",
      "Seychelles.model\n",
      "Sierra Leone.model\n",
      "Singapore.model\n",
      "Slovakia.model\n",
      "Slovenia.model\n",
      "Solomon Islands.model\n",
      "Somalia.model\n",
      "South Africa.model\n",
      "South Korea.model\n",
      "South Sudan.model\n",
      "Spain.model\n",
      "Sri Lanka.model\n",
      "Sudan.model\n",
      "Suriname.model\n",
      "Sweden.model\n",
      "Switzerland.model\n",
      "Syria.model\n",
      "Taiwan.model\n",
      "Tajikistan.model\n",
      "Tanzania.model\n",
      "Thailand.model\n",
      "Timor.model\n",
      "Togo.model\n",
      "Trinidad and Tobago.model\n",
      "Tunisia.model\n",
      "Turkey.model\n",
      "Uganda.model\n",
      "Ukraine.model\n",
      "United Arab Emirates.model\n",
      "United Kingdom.model\n",
      "United States.model\n",
      "Uruguay.model\n",
      "Uzbekistan.model\n",
      "Vanuatu.model\n",
      "Vatican.model\n",
      "Venezuela.model\n",
      "Vietnam.model\n",
      "Yemen.model\n",
      "Zambia.model\n",
      "Zimbabwe.model\n"
     ]
    }
   ],
   "source": [
    ";ls models/"
   ]
  },
  {
   "cell_type": "code",
   "execution_count": 24,
   "metadata": {
    "collapsed": true
   },
   "outputs": [
    {
     "data": {
      "text/plain": [
       "RObject{VecSxp}\n",
       "\n",
       "Call:\n",
       " randomForest(formula = mnewcases ~ ., data = `#JL`$xd) \n",
       "               Type of random forest: regression\n",
       "                     Number of trees: 500\n",
       "No. of variables tried at each split: 3\n",
       "\n",
       "          Mean of squared residuals: 12411158\n",
       "                    % Var explained: 61.17\n"
      ]
     },
     "execution_count": 24,
     "metadata": {},
     "output_type": "execute_result"
    }
   ],
   "source": [
    "R\"load('models/Spain.model');model\""
   ]
  },
  {
   "cell_type": "code",
   "execution_count": null,
   "metadata": {
    "collapsed": true
   },
   "outputs": [],
   "source": []
  }
 ],
 "metadata": {
  "@webio": {
   "lastCommId": null,
   "lastKernelId": null
  },
  "kernelspec": {
   "display_name": "Julia 1.5.3",
   "language": "julia",
   "name": "julia-1.5"
  },
  "language_info": {
   "file_extension": ".jl",
   "mimetype": "application/julia",
   "name": "julia",
   "version": "1.5.3"
  }
 },
 "nbformat": 4,
 "nbformat_minor": 4
}
